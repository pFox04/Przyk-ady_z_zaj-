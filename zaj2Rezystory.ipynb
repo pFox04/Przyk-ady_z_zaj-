{
 "cells": [
  {
   "cell_type": "code",
   "execution_count": 3,
   "metadata": {},
   "outputs": [],
   "source": [
    "from pulp import *\n",
    "import pandas as pd \n"
   ]
  },
  {
   "cell_type": "code",
   "execution_count": 4,
   "metadata": {},
   "outputs": [],
   "source": [
    "# Problem - poszukiwanie największej wartości prądu\n",
    "\n",
    "prob = LpProblem(\"Najwieksza wartość prądu\", LpMaximize)\n",
    "\n",
    "\n",
    "# R1=8\n",
    "# R2=6\n",
    "# R3=4\n",
    "# R4=10\n",
    "# R5=8\n",
    "\n",
    "# R1 i R2 równolegle\n",
    "#    R3\n",
    "# R4 i R5 równolegle\n",
    "\n",
    "# Ograniczenia prądowe nałożone na każdy rezystor\n",
    "IR1 = LpVariable(\"R1\", 0,2) \n",
    "IR2 = LpVariable(\"R2\", 0,3)\n",
    "IR3 = LpVariable(\"R3\", 0,4)\n",
    "IR4 = LpVariable(\"R4\", 0,2)\n",
    "IR5 = LpVariable(\"R5\", 0,2)\n",
    "\n",
    "# Ograniczenie prądu wynikające z ograniczenia rezystora R3\n",
    "Iwe = LpVariable(\"Prad\",0,4)\n",
    "\n",
    "\n",
    "prob += Iwe\n",
    "prob += Iwe*6/14 ==IR1\n",
    "prob += Iwe* 8/14 == IR2\n",
    "prob += IR1+IR2 == IR3\n",
    "prob += IR3 * 10/18 == IR4\n",
    "prob += IR3 * 8/18 == IR5\n",
    "\n",
    "\n",
    "\n",
    " \n",
    "\n",
    "\n",
    "\n"
   ]
  },
  {
   "cell_type": "code",
   "execution_count": 5,
   "metadata": {},
   "outputs": [
    {
     "name": "stdout",
     "output_type": "stream",
     "text": [
      "Status:  Optimal\n",
      "Prad = 3.6\n",
      "R1 = 1.5428571\n",
      "R2 = 2.0571429\n",
      "R3 = 3.6\n",
      "R4 = 2.0\n",
      "R5 = 1.6\n",
      "prad wyniesie 3.6\n"
     ]
    }
   ],
   "source": [
    "# Wyświetlenie wyników prądu dla każdego rezystora\n",
    "prob.solve()\n",
    "print(\"Status: \", LpStatus[prob.status])\n",
    "for v in prob.variables():\n",
    "    print(v.name,\"=\", v.varValue)\n",
    "print(\"prad wyniesie {}\". format(value(prob.objective)))"
   ]
  },
  {
   "cell_type": "code",
   "execution_count": null,
   "metadata": {},
   "outputs": [],
   "source": []
  }
 ],
 "metadata": {
  "kernelspec": {
   "display_name": "Python 3",
   "language": "python",
   "name": "python3"
  },
  "language_info": {
   "codemirror_mode": {
    "name": "ipython",
    "version": 3
   },
   "file_extension": ".py",
   "mimetype": "text/x-python",
   "name": "python",
   "nbconvert_exporter": "python",
   "pygments_lexer": "ipython3",
   "version": "3.7.3"
  }
 },
 "nbformat": 4,
 "nbformat_minor": 2
}
