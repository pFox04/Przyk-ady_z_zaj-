{
 "cells": [
  {
   "cell_type": "code",
   "execution_count": 13,
   "metadata": {},
   "outputs": [],
   "source": [
    "# Konwersja - numer telefonu -> każda cyfra słownie\n",
    "# Zadanie polega na zpoznaniu się z programowaniem obiektowym\n",
    "\n",
    "# Zdefiniowanie klasy o nazwie pob\n",
    "class pob():\n",
    "    \n",
    "    # Zdefiniowanie konstruktora init, ktory jest wywoływane gdy obiekt jest tworzny\n",
    "    # Celem jest zainicjowanie pól w instancji - tworzy dwie zmienne kraj oraz numer\n",
    "    def __init__ (self,kraj,numer):\n",
    "        self.kraj = kraj\n",
    "        self.numer = numer\n",
    "       \n",
    "    \n",
    "    # Zdefiniowanie metody o nazwie 'typ' która ma zadanie: określenie czy jest to numer stacjonarny\n",
    "    def typ(self):\n",
    "        \n",
    "        # Po wykonaniu dzielenia otrzymujemy dwie pierwsze liczby w celu sprawdzenia czy jest to numer stacjonarny\n",
    "        kierunkowy= int(self.numer/10000000) \n",
    "        \n",
    "        indexKierunkowy={12:\"Krakow\", 13:\"Krosno\", 14:\"Tarnów\", 15:\"Tarnobrzeg\",\n",
    "                         16:\"Przemyśl\", 17:\"Rzeszów\", 18:\"Nowy Sącz\", 22:\"Warszawa\",\n",
    "                         23:\"Ciechanów\", 24:\"Płock\", 25:\"Siedlce\", 29:\"Ostrołęka\",\n",
    "                         32:\"Katowice\", 33:\"Bielsko Biała\", 34:\"Częstochowa\",\n",
    "                         41:\"Kielce\", 42:\"Łódź\", 43:\"Sieradz\", 44:\"Piotrków Trybunalski\",\n",
    "                         46:\"Skierniewice\",48:\"Radom\", 52:\"Bydgoszcz\", 54:\"Włocławek\",\n",
    "                         55:\"Elbląg\", 56:\"Toruń\",58:\"Gdańsk\",59:\"Słupsk\"}\n",
    "        \n",
    "        if(kierunkowy in indexKierunkowy):\n",
    "            print(\"Numer stacjonarny, Polska, kierunek \" + indexKierunkowy[kierunkowy] + \", nr \" + str(self.numer))\n",
    "            \n",
    "        else:\n",
    "            print(\"Numer komorkowy, Polska,\"+ \" nr \" +  str(self.numer))\n",
    "           \n",
    "      \n",
    "    \n",
    "    # Zdefiniowana metoda 'konwersja' przetwarza numer w postacji liczbowej do postaci słownej\n",
    "    # Tworzona jest lista z cyframi numeru, następnie przy użyciu zdefiniowanego słownika wyświetlany jest numer\n",
    "\n",
    "    def konwersja(self):\n",
    "        konwersja={0:\"zero\",1:\"jeden\",2:\"dwa\",3:\"trzy\",4:\"cztery\",5:\"pięć\",6:\"sześć\",7:\"siedem\",8:\"osiem\",9:\"dziewiec\"}\n",
    "        a=10\n",
    "        numerTab = []\n",
    "        for i in range(0, 9):  \n",
    "            numPom = int(self.numer % a) # Wydziela ostatnią cyfre z numeru\n",
    "            numerTab.append(numPom)      # Wpisuje cyfre jako ostatni element listy\n",
    "            self.numer = self.numer/a    # Wykonuje dzielenie w celu pominięcia wpisanej już cyfry\n",
    "           \n",
    "        numerTab.reverse()               # Odwraca porządek elementów listy\n",
    "        \n",
    "        print(\"Słownie:\")\n",
    "        print(konwersja[4],konwersja[8], end= ' ') # Założenie: konwersja dotyczy wyłącznie numerów z Polski\n",
    "        for i in numerTab:\n",
    "            print(konwersja[i],end=' ')\n",
    "            \n",
    "   \n",
    "\n",
    "\n",
    " # definiowana jest funkcja main w której wywoływane są metody   \n",
    "def main():\n",
    "    x=pob(48,663422789) \n",
    "    x.typ()\n",
    "    x.konwersja()"
   ]
  },
  {
   "cell_type": "code",
   "execution_count": 14,
   "metadata": {},
   "outputs": [
    {
     "name": "stdout",
     "output_type": "stream",
     "text": [
      "Numer komorkowy, Polska, nr 663422789\n",
      "Słownie:\n",
      "cztery osiem sześć sześć trzy cztery dwa dwa siedem osiem dziewiec "
     ]
    }
   ],
   "source": [
    "main()"
   ]
  },
  {
   "cell_type": "code",
   "execution_count": null,
   "metadata": {},
   "outputs": [],
   "source": [
    "# W wyniku działania programu otrzymujemy informacje o rodzaju numeru( Czy jest to numer komórkowy czy stacjonarny)\n",
    "# Wyświetlany jest numer w postaci liczbowej oraz słownej"
   ]
  }
 ],
 "metadata": {
  "kernelspec": {
   "display_name": "Python 3",
   "language": "python",
   "name": "python3"
  },
  "language_info": {
   "codemirror_mode": {
    "name": "ipython",
    "version": 3
   },
   "file_extension": ".py",
   "mimetype": "text/x-python",
   "name": "python",
   "nbconvert_exporter": "python",
   "pygments_lexer": "ipython3",
   "version": "3.7.3"
  }
 },
 "nbformat": 4,
 "nbformat_minor": 2
}
