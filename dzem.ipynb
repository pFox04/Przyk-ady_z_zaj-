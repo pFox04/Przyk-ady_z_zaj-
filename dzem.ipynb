{
 "cells": [
  {
   "cell_type": "code",
   "execution_count": 16,
   "metadata": {},
   "outputs": [],
   "source": [
    "from pulp import *\n",
    "import pandas as pd \n"
   ]
  },
  {
   "cell_type": "markdown",
   "metadata": {},
   "source": [
    "# Problem optymalizacyjny\n",
    "# Hurtownia produkukuje dżem(cena sprzedaży: 12) oraz mus,\n",
    "# ograniczenia to dostepnosc produktów: jabłka - 40; miód - 25,\n",
    "# poszukiwane rozwiązanie - ile powiniśmy produkować dżemu a ile musu by otrzymać największy zysk "
   ]
  },
  {
   "cell_type": "code",
   "execution_count": 17,
   "metadata": {},
   "outputs": [],
   "source": [
    "# poszukiwanie maksymalnego zysku(LpMaximize)\n",
    "prob = LpProblem(\"Najlepsza produkcja HURT\", LpMaximize)\n",
    "\n",
    "# dwie zmienne\n",
    "# ograniczenie produkcji dżemu i musu, produkcja jest nieujemna - produkcja ujemna jest niemozliwa\n",
    "dzem = LpVariable(\"Dżem\", 0) \n",
    "mus = LpVariable(\"Mus\",0)\n",
    "\n",
    "# zmienne pomocnicze \n",
    "zuzycie_jablek = LpVariable(\"Jablka\", 0)\n",
    "zuzycie_miodu = LpVariable(\"Miod\", 0)\n",
    "\n",
    "# funkcja zysku\n",
    "prob += 12* dzem + 11* mus - 0.3 * zuzycie_jablek- 0.2* zuzycie_miodu \n",
    "\n",
    "# określenie zużycia składników do dżemu i musu\n",
    "prob += 8* dzem + 2* mus == zuzycie_jablek, \"Zuzycie jablek\" \n",
    "prob += 5* dzem + 5* mus == zuzycie_miodu, \"Zuzycie miodu\"\n",
    "\n",
    "# dodanie ograniczeń max składników\n",
    "prob += zuzycie_jablek <= 40, \"Maksimum jablek\" \n",
    "prob += zuzycie_miodu <= 25, \"Maksimum miodu\"\n",
    "\n"
   ]
  },
  {
   "cell_type": "code",
   "execution_count": 18,
   "metadata": {},
   "outputs": [
    {
     "name": "stdout",
     "output_type": "stream",
     "text": [
      "Status:  Optimal\n",
      "Dżem = 0.0\n",
      "Jablka = 10.0\n",
      "Miod = 25.0\n",
      "Mus = 5.0\n",
      "zysk wyniesie 47.0\n"
     ]
    }
   ],
   "source": [
    "# rozwiązanie problemu przy użyciu pulp, wyświetlenie status, zużycie oraz produkcja, zysk\n",
    "prob.solve()\n",
    "print(\"Status: \", LpStatus[prob.status])\n",
    "for v in prob.variables():\n",
    "    print(v.name,\"=\", v.varValue)\n",
    "print(\"zysk wyniesie {}\". format(value(prob.objective)))\n"
   ]
  },
  {
   "cell_type": "code",
   "execution_count": null,
   "metadata": {},
   "outputs": [],
   "source": []
  }
 ],
 "metadata": {
  "celltoolbar": "Raw Cell Format",
  "kernelspec": {
   "display_name": "Python 3",
   "language": "python",
   "name": "python3"
  },
  "language_info": {
   "codemirror_mode": {
    "name": "ipython",
    "version": 3
   },
   "file_extension": ".py",
   "mimetype": "text/x-python",
   "name": "python",
   "nbconvert_exporter": "python",
   "pygments_lexer": "ipython3",
   "version": "3.7.3"
  }
 },
 "nbformat": 4,
 "nbformat_minor": 2
}
