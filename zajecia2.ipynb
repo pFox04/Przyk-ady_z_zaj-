{
 "cells": [
  {
   "cell_type": "code",
   "execution_count": 8,
   "metadata": {},
   "outputs": [
    {
     "data": {
      "text/plain": [
       "1"
      ]
     },
     "execution_count": 8,
     "metadata": {},
     "output_type": "execute_result"
    }
   ],
   "source": [
    "from pulp import *\n",
    "\n",
    "# Problem optymalizacyjny, jaki procentowy skład powinna mieć karma by spełnić kryteria \n",
    "# Funkcja optymalizacyjna koszt(LpMinimize)\n",
    "prob = LpProblem(\"The Whiskas Problem\",LpMinimize)\n",
    "\n",
    "# Sześć zmiennych, procentowa ilość Chicken,Beef,Mutton,Rice,Wheat,Gel\n",
    "x1=LpVariable(\"ChickenPercent\",0,100)\n",
    "x2=LpVariable(\"BeefPercent\",0,100)\n",
    "x3=LpVariable(\"MuttonPercent\",0,100)\n",
    "x4=LpVariable(\"RicePercent\",0,100)\n",
    "x5=LpVariable(\"WheatPercent\",0,100)\n",
    "x6=LpVariable(\"GelPercent\",0,100)\n",
    "\n",
    "# Określenie funkcji kosztu\n",
    "prob += 0.013*x1 + 0.008*x2+ 0.010*x3+0.002*x4+0.005*x5+0.001*x6, \"Total Cost of Ingredients per can\"\n",
    "\n",
    "\n",
    "\n",
    "# Stuff     \tProtein  \tFat   \tFibre \tSalt\n",
    "# Chicken   \t0.100    \t0.080 \t0.001 \t0.002\n",
    "# Beef      \t0.200    \t0.100 \t0.005 \t0.005\n",
    "# Rice      \t0.000    \t0.010 \t0.100 \t0.002\n",
    "# Wheat bran\t0.040    \t0.010 \t0.150 \t0.008\n",
    "\n",
    "\n",
    "# Określenie sumy procentowej oraz określenie wymagań żywnościowych według tabeli powyżej- Białko, Tłuszcz, Błonnik, Sól\n",
    "prob += x1 + x2 +x3 + x4 + x5 + x6 == 100, \"PercentagesSum\"\n",
    "prob += 0.100*x1 + 0.200*x2 + 0.150*x3 + 0.000*x4 + 0.040*x5 + 0.0*x6 >= 8.0, \"ProteinRequirement\"\n",
    "prob += 0.080*x1 + 0.100*x2 + 0.110*x3 + 0.010*x4 + 0.010*x5 + 0.0*x6 >= 6.0, \"FatRequirement\"\n",
    "prob += 0.001*x1 + 0.005*x2 + 0.003*x3 + 0.100*x4 + 0.150*x5 + 0.0*x6 <= 2.0, \"FibreRequirement\"\n",
    "prob += 0.002*x1 + 0.005*x2 + 0.007*x3 + 0.002*x4 + 0.008*x5 + 0.0*x6 <= 0.4, \"SaltRequirement\"\n",
    "\n",
    "# Rozwiązanie problemu za pomocą pulp\n",
    "prob.solve()"
   ]
  },
  {
   "cell_type": "code",
   "execution_count": 9,
   "metadata": {},
   "outputs": [
    {
     "name": "stdout",
     "output_type": "stream",
     "text": [
      "Status: Optimal\n",
      "BeefPercent = 60.0\n",
      "ChickenPercent = 0.0\n",
      "GelPercent = 40.0\n",
      "MuttonPercent = 0.0\n",
      "RicePercent = 0.0\n",
      "WheatPercent = 0.0\n",
      "Total Cost of Ingredients per can =  0.52\n"
     ]
    }
   ],
   "source": [
    "print(\"Status:\", LpStatus[prob.status])\n",
    "for v in prob.variables():\n",
    "    print(v.name, \"=\", v.varValue)\n",
    "print(\"Total Cost of Ingredients per can = \", value(prob.objective))"
   ]
  },
  {
   "cell_type": "code",
   "execution_count": null,
   "metadata": {
    "scrolled": true
   },
   "outputs": [],
   "source": [
    "# Otrzymaliśmy rozwiązanie - 60% Beef oraz 40% Gel\n",
    "# Koszt to 0.52 za sztukę"
   ]
  },
  {
   "cell_type": "code",
   "execution_count": null,
   "metadata": {},
   "outputs": [],
   "source": []
  }
 ],
 "metadata": {
  "kernelspec": {
   "display_name": "Python 3",
   "language": "python",
   "name": "python3"
  },
  "language_info": {
   "codemirror_mode": {
    "name": "ipython",
    "version": 3
   },
   "file_extension": ".py",
   "mimetype": "text/x-python",
   "name": "python",
   "nbconvert_exporter": "python",
   "pygments_lexer": "ipython3",
   "version": "3.7.3"
  }
 },
 "nbformat": 4,
 "nbformat_minor": 2
}
