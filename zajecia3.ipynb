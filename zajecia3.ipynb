{
 "cells": [
  {
   "cell_type": "code",
   "execution_count": 1,
   "metadata": {},
   "outputs": [],
   "source": [
    "from pulp import *\n",
    "import pandas as pd \n",
    "import numpy as np"
   ]
  },
  {
   "cell_type": "code",
   "execution_count": 2,
   "metadata": {},
   "outputs": [],
   "source": [
    "# Problem optymalizacyjny, Plan pracy\n",
    "# Uzupełnić plan pracy z uwzględnieniem dostępności pracowników oraz wynagrodzenia za godzinę pracy dla danego pracownika\n",
    "# Cel - jak najmniejszy koszt dla pracodawcy\n",
    "\n",
    "prob = LpProblem(\"koszt\",LpMinimize)\n",
    "\n",
    "# Stworzenie dla każdej osoby zmiennej dla każdego dnia pracy - 8 osób * 6 dni\n",
    "\n",
    "# Osoba    Dostepność[h]     Cena za godzine pracy\n",
    "# Igor          4                     170\n",
    "# Marcin        2                      60\n",
    "# Franek        2                      80\n",
    "# Piotr         8                     200\n",
    "# Ania          8                      90\n",
    "# Zenon         2                      18\n",
    "# Zbyszek       6                     100\n",
    "# Ola           6                     100\n",
    "\n",
    "# Plan dla sklepu: \n",
    "# pon = 8\n",
    "# wt = 4\n",
    "# sr = 4\n",
    "# czw = 4\n",
    "# pt = 8\n",
    "# sob = 2\n",
    "\n",
    "# Ograniczenia dla każdego dnia pracy równe max dostępności\n",
    "pOSOBA1 = LpVariable(\"pIgor\", 0,4,cat = 'Integer')\n",
    "wOSOBA1 = LpVariable(\"wIgor\", 0,4,cat = 'Integer')\n",
    "sOSOBA1 = LpVariable(\"sIgor\", 0,4,cat = 'Integer')\n",
    "czwOSOBA1 = LpVariable(\"czwIgor\", 0,4,cat = 'Integer')\n",
    "ptOSOBA1 = LpVariable(\"ptIgor\", 0,4,cat = 'Integer')\n",
    "sobOSOBA1 = LpVariable(\"sobIgor\", 0,4,cat = 'Integer')\n",
    "\n",
    "pOSOBA2 = LpVariable(\"pMarcin\", 0,2,cat = 'Integer')\n",
    "wOSOBA2 = LpVariable(\"wMarcin\", 0,2,cat = 'Integer')\n",
    "sOSOBA2 = LpVariable(\"sMarcin\", 0,2,cat = 'Integer')\n",
    "czwOSOBA2 = LpVariable(\"czwMarcin\", 0,2,cat = 'Integer')\n",
    "ptOSOBA2 = LpVariable(\"ptMarcin\", 0,2,cat = 'Integer')\n",
    "sobOSOBA2 = LpVariable(\"sobMarcin\", 0,2,cat = 'Integer')\n",
    "\n",
    "pOSOBA3 = LpVariable(\"pFranek\", 0,2,cat = 'Integer')\n",
    "wOSOBA3 = LpVariable(\"wFranek\", 0,2,cat = 'Integer')\n",
    "sOSOBA3 = LpVariable(\"sFranek\", 0,2,cat = 'Integer')\n",
    "czwOSOBA3 = LpVariable(\"czwFranek\", 0,2,cat = 'Integer')\n",
    "ptOSOBA3 = LpVariable(\"ptFranek\", 0,2,cat = 'Integer')\n",
    "sobOSOBA3 = LpVariable(\"sobFranek\", 0,2,cat = 'Integer')\n",
    "\n",
    "pOSOBA4 = LpVariable(\"pPiotr\", 0,8,cat = 'Integer') \n",
    "wOSOBA4 = LpVariable(\"wPiotr\", 0,8,cat = 'Integer') \n",
    "sOSOBA4 = LpVariable(\"sPiotr\", 0,8,cat = 'Integer') \n",
    "czwOSOBA4 = LpVariable(\"czwPiotr\", 0,8,cat = 'Integer') \n",
    "ptOSOBA4 = LpVariable(\"ptPiotr\", 0,8,cat = 'Integer') \n",
    "sobOSOBA4 = LpVariable(\"sobPiotr\", 0,8,cat = 'Integer') \n",
    "\n",
    "pOSOBA5 = LpVariable(\"pAnia\", 0,8,cat = 'Integer')\n",
    "wOSOBA5 = LpVariable(\"wAnia\", 0,8,cat = 'Integer')\n",
    "sOSOBA5 = LpVariable(\"sAnia\", 0,8,cat = 'Integer')\n",
    "czwOSOBA5 = LpVariable(\"czwAnia\", 0,8,cat = 'Integer')\n",
    "ptOSOBA5 = LpVariable(\"ptAnia\", 0,8,cat = 'Integer')\n",
    "sobOSOBA5 = LpVariable(\"sobAnia\", 0,8,cat = 'Integer')\n",
    "\n",
    "pOSOBA6 = LpVariable(\"pZenon\", 0,2,cat = 'Integer')\n",
    "wOSOBA6 = LpVariable(\"wZenon\", 0,2,cat = 'Integer')\n",
    "sOSOBA6 = LpVariable(\"sZenon\", 0,2,cat = 'Integer')\n",
    "czwOSOBA6 = LpVariable(\"czwZenon\", 0,2,cat = 'Integer')\n",
    "ptOSOBA6 = LpVariable(\"ptZenon\", 0,2,cat = 'Integer')\n",
    "sobOSOBA6 = LpVariable(\"sobZenon\", 0,2,cat = 'Integer')\n",
    "\n",
    "pOSOBA7 = LpVariable(\"pZbyszek\", 0,6,cat = 'Integer')\n",
    "wOSOBA7 = LpVariable(\"wZbyszek\", 0,6,cat = 'Integer')\n",
    "sOSOBA7 = LpVariable(\"sZbyszek\", 0,6,cat = 'Integer')\n",
    "czwOSOBA7 = LpVariable(\"czwZbyszek\", 0,6,cat = 'Integer')\n",
    "ptOSOBA7 = LpVariable(\"ptZbyszek\", 0,6,cat = 'Integer')\n",
    "sobOSOBA7 = LpVariable(\"sobZbyszek\", 0,6,cat = 'Integer')\n",
    "\n",
    "pOSOBA8 = LpVariable(\"pOla\", 0,6,cat = 'Integer')\n",
    "wOSOBA8 = LpVariable(\"wOla\", 0,6,cat = 'Integer')\n",
    "sOSOBA8 = LpVariable(\"sOla\", 0,6,cat = 'Integer')\n",
    "czwOSOBA8 = LpVariable(\"czwOla\", 0,6,cat = 'Integer')\n",
    "ptOSOBA8 = LpVariable(\"ptOla\", 0,6,cat = 'Integer')\n",
    "sobOSOBA8 = LpVariable(\"sobOla\", 0,6,cat = 'Integer')\n",
    "\n",
    "\n",
    "\n",
    " \n",
    "\n"
   ]
  },
  {
   "cell_type": "code",
   "execution_count": 3,
   "metadata": {},
   "outputs": [
    {
     "data": {
      "text/plain": [
       "1"
      ]
     },
     "execution_count": 3,
     "metadata": {},
     "output_type": "execute_result"
    }
   ],
   "source": [
    "# Stworzenie funkcji kosztu, współczynnikami jest koszt za jedną godzinę pracy\n",
    "prob += (pOSOBA1+wOSOBA1+sOSOBA1+czwOSOBA1+ptOSOBA1+sobOSOBA1)*170+(pOSOBA2+wOSOBA2+sOSOBA2+czwOSOBA2+ptOSOBA2 + sobOSOBA2)*60+(pOSOBA3+wOSOBA3+sOSOBA3+czwOSOBA3+ptOSOBA3+sobOSOBA3)*80+(pOSOBA4+wOSOBA4+sOSOBA4+czwOSOBA4+ptOSOBA4+sobOSOBA4)*200+(pOSOBA5+wOSOBA5+sOSOBA5+czwOSOBA5+ptOSOBA5+sobOSOBA5)*90+(pOSOBA6+wOSOBA6+sOSOBA6+czwOSOBA6+ptOSOBA6+sobOSOBA6)*18+(pOSOBA7+wOSOBA7+sOSOBA7+czwOSOBA7+ptOSOBA7+sobOSOBA7)*100+(pOSOBA8+wOSOBA8+sOSOBA8+czwOSOBA8+ptOSOBA8+sobOSOBA8)*100\n",
    "\n",
    "\n",
    "# Określenie ile godzin pracy należy wypełnić\n",
    "prob += (pOSOBA1+wOSOBA1+sOSOBA1+czwOSOBA1+ptOSOBA1+sobOSOBA1)+(pOSOBA2+wOSOBA2+sOSOBA2+czwOSOBA2+ptOSOBA2+sobOSOBA2)+(pOSOBA3+wOSOBA3+sOSOBA3+czwOSOBA3+ptOSOBA3+sobOSOBA3)+(pOSOBA4+wOSOBA4+sOSOBA4+czwOSOBA4+ptOSOBA4+sobOSOBA4)+(pOSOBA5+wOSOBA5+sOSOBA5+czwOSOBA5+ptOSOBA5+sobOSOBA5)+(pOSOBA6+wOSOBA6+sOSOBA6+czwOSOBA6+ptOSOBA6+sobOSOBA6)+(pOSOBA7+wOSOBA7+sOSOBA7+czwOSOBA7+ptOSOBA7+sobOSOBA7)+(pOSOBA8+wOSOBA8+sOSOBA8+czwOSOBA8+ptOSOBA8+sobOSOBA8) == 30\n",
    "gor = 2.0\n",
    "ptMarcin = 2.0\n",
    "ptOla = 2.0\n",
    "ptZe\n",
    "# Określenie ograniczenia dla całego tygodnia dla każdego pracownika\n",
    "prob += pOSOBA1+wOSOBA1+sOSOBA1+czwOSOBA1+ptOSOBA1+sobOSOBA1 <= 4\n",
    "prob += pOSOBA2+wOSOBA2+sOSOBA2+czwOSOBA2+ptOSOBA2+sobOSOBA2 <= 2\n",
    "prob += pOSOBA3+wOSOBA3+sOSOBA3+czwOSOBA3+ptOSOBA3+sobOSOBA3 <= 2\n",
    "prob += pOSOBA4+wOSOBA4+sOSOBA4+czwOSOBA4+ptOSOBA4+sobOSOBA4 <= 8\n",
    "prob += pOSOBA5+wOSOBA5+sOSOBA5+czwOSOBA5+ptOSOBA5+sobOSOBA5 <= 8\n",
    "prob += pOSOBA6+wOSOBA6+sOSOBA6+czwOSOBA6+ptOSOBA6+sobOSOBA6 <= 2\n",
    "prob += pOSOBA7+wOSOBA7+sOSOBA7+czwOSOBA7+ptOSOBA7+sobOSOBA7 <= 6\n",
    "prob += pOSOBA8+wOSOBA8+sOSOBA8+czwOSOBA8+ptOSOBA8+sobOSOBA8 <= 6\n",
    "\n",
    "\n",
    "# Określenie max godzin pracy dla danego dnia\n",
    "prob += pOSOBA1+pOSOBA2+pOSOBA3+pOSOBA4+pOSOBA5+pOSOBA6+pOSOBA7+pOSOBA8 <=8\n",
    "prob += wOSOBA1+wOSOBA2+wOSOBA3+wOSOBA4+wOSOBA6+wOSOBA7+wOSOBA7+wOSOBA8 <=4\n",
    "prob += sOSOBA1+sOSOBA2+sOSOBA3+sOSOBA4+sOSOBA5+sOSOBA6+sOSOBA7+sOSOBA8 <=4\n",
    "prob += czwOSOBA1+czwOSOBA2+czwOSOBA3+czwOSOBA4+czwOSOBA5+czwOSOBA6+czwOSOBA7+czwOSOBA8 <=4\n",
    "prob += ptOSOBA1+ptOSOBA2+ptOSOBA3+ptOSOBA4+ptOSOBA5+ptOSOBA6+ptOSOBA7+ptOSOBA8 <=8\n",
    "prob += sobOSOBA1+sobOSOBA2+sobOSOBA3+sobOSOBA4+sobOSOBA5+sobOSOBA6+sobOSOBA7+sobOSOBA8 <=2\n",
    "\n",
    "\n",
    "prob.solve()\n"
   ]
  },
  {
   "cell_type": "code",
   "execution_count": 4,
   "metadata": {},
   "outputs": [
    {
     "name": "stdout",
     "output_type": "stream",
     "text": [
      "czwZbyszek = 4.0\n",
      "pAnia = 8.0\n",
      "ptIgor = 2.0\n",
      "ptMarcin = 2.0\n",
      "ptOla = 2.0\n",
      "ptZenon = 2.0\n",
      "sOla = 4.0\n",
      "sobZbyszek = 2.0\n",
      "wFranek = 2.0\n",
      "wIgor = 2.0\n",
      "Status:  Optimal\n",
      "koszt 2916.0\n"
     ]
    }
   ],
   "source": [
    "# Wyswietlenie planu wraz z kosztem\n",
    "for v in prob.variables():\n",
    "    if(v.varValue != 0.0):\n",
    "        print(v.name,\"=\", v.varValue)\n",
    "        imie = v.name\n",
    "        wartosc = v.varValue\n",
    "    \n",
    "\n",
    "print(\"Status: \", LpStatus[prob.status])   \n",
    "print(\"koszt {}\". format(value(prob.objective)))\n"
   ]
  },
  {
   "cell_type": "code",
   "execution_count": null,
   "metadata": {},
   "outputs": [],
   "source": [
    "#Ania = 8.0    - Poniedziałek\n",
    "#Franek = 2.0  - Wtorek\n",
    "#Igor = 2.0    - Wtorek\n",
    "#Ola = 4.0     - Środa\n",
    "#Zbyszek = 4.0 - Czwartek\n",
    "#ptIgor = 2.0  - Piątek\n",
    "#Marcin = 2.0  - Piątek\n",
    "#Ola = 2.0     - Piątek\n",
    "#Zenon = 2.0   - Piątek\n",
    "#Zbyszek = 2.0 - Sobota"
   ]
  },
  {
   "cell_type": "code",
   "execution_count": null,
   "metadata": {},
   "outputs": [],
   "source": []
  }
 ],
 "metadata": {
  "kernelspec": {
   "display_name": "Python 3",
   "language": "python",
   "name": "python3"
  },
  "language_info": {
   "codemirror_mode": {
    "name": "ipython",
    "version": 3
   },
   "file_extension": ".py",
   "mimetype": "text/x-python",
   "name": "python",
   "nbconvert_exporter": "python",
   "pygments_lexer": "ipython3",
   "version": "3.7.3"
  }
 },
 "nbformat": 4,
 "nbformat_minor": 2
}
