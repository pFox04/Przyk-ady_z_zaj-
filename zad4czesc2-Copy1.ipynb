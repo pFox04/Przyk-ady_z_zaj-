{
 "cells": [
  {
   "cell_type": "code",
   "execution_count": 1,
   "metadata": {},
   "outputs": [],
   "source": [
    "from pulp import *"
   ]
  },
  {
   "cell_type": "code",
   "execution_count": 20,
   "metadata": {},
   "outputs": [],
   "source": [
    "# Problem optymalizacyjny rozplanowania dostarczania browaru do odbiorców\n",
    "\n",
    "# Poszukiwanie planu najtańszego dostarczenia browaru,\n",
    "prob = LpProblem(\"koszt\",LpMinimize)\n",
    "\n",
    "# Dwa punkty dostarczające browar, BrowarX i BrowarY\n",
    "# Trzy punkty odbierające browar, Bar1, Bar2, Bar3\n",
    "BrowarX_Bar1 =  LpVariable(\"BrowarX_Bar1\", 0,None,cat = 'Integer') # ile browarów dostarcza z BrowarX do Bar1\n",
    "BrowarX_Bar2 = LpVariable(\"BrowarX_Bar2\", 0,None,cat = 'Integer')  # ile browarów dostarcza z BrowarX do Bar2\n",
    "BrowarX_Bar3 = LpVariable(\"BrowarX_Bar3\", 0,None,cat = 'Integer')  # ile browarów dostarcza z BrowarX do Bar3\n",
    "BrowarY_Bar1 =  LpVariable(\"BrowarY_Bar1\", 0,None,cat = 'Integer') # ile browarów dostarcza z BrowarY do Bar1\n",
    "BrowarY_Bar2 = LpVariable(\"BrowarY_Bar2\", 0,None,cat = 'Integer')  # ile browarów dostarcza z BrowarY do Bar2\n",
    "BrowarY_Bar3 = LpVariable(\"BrowarY_Bar3\", 0,None,cat = 'Integer')  # ile browarów dostarcza z BrowarY do Bar3\n",
    "\n",
    "# Dodanie zmiennej Magazyn - określa ilość browaru(dla BrowarX+BrowarY) przekraczająca zapotrzebowanie(Bar1+Bar2+Bar3)\n",
    "# Dodanie zmiennej Braknie - określa ilość browaru której braknie do pokrycia zapotrzebowania\n",
    "Magazyn = LpVariable(\"Magazyn\", 0,None,cat = 'Integer')\n",
    "Braknie = LpVariable(\"Zabaknie\", 0 ,None, cat = 'Integer')\n",
    "\n",
    "# Określenie zapotrzebowania dla każdego Baru\n",
    "zapotrzebowaniaBar1 = 19\n",
    "zapotrzebowaniaBar2 = 5\n",
    "zapotrzebowaniaBar3 = 10\n",
    "\n",
    "# Suma zapotrzebowania\n",
    "sumaZapotrzebowania= zapotrzebowaniaBar1+zapotrzebowaniaBar2+zapotrzebowaniaBar3\n",
    "\n",
    "# Określenie dostępności dostarczania produktu(browar) przez każdy z Browarów\n",
    "BrowarX = 50\n",
    "BrowarY = 20\n",
    "\n",
    "# Suma dostępności produktu które możemy dostarczać do odbiorców(Bary)\n",
    "dostepnosc =BrowarX+BrowarY\n",
    "\n",
    "\n",
    "\n",
    "\n"
   ]
  },
  {
   "cell_type": "code",
   "execution_count": 21,
   "metadata": {},
   "outputs": [
    {
     "data": {
      "text/plain": [
       "1"
      ]
     },
     "execution_count": 21,
     "metadata": {},
     "output_type": "execute_result"
    }
   ],
   "source": [
    "# Określenie funkcji zysku, współczynnikami jest koszt dostarczenia produktu z browarów do barów\n",
    "prob+=(15*BrowarX_Bar1 + 10*BrowarX_Bar2 + 5*BrowarX_Bar3 + 2*BrowarY_Bar1+15*BrowarY_Bar2+20*BrowarY_Bar3)\n",
    "\n",
    "# Sprawdzanie czy dostępność produktu(BrowarX+BrowarY) pokrywa zapotrzebowanie(Bar1+Bar2+Bar3)\n",
    "if(dostepnosc>=sumaZapotrzebowania):\n",
    "    prob += dostepnosc-sumaZapotrzebowania == Magazyn # Ile produktu pozostanie w magazynie dwóch dostawców\n",
    "    prob+= BrowarX_Bar1+BrowarY_Bar1 == 19\n",
    "    prob+= BrowarX_Bar2+BrowarY_Bar2 == 5\n",
    "    prob+= BrowarX_Bar3+BrowarY_Bar3 == 10\n",
    "    \n",
    "    prob+= BrowarX_Bar1+BrowarX_Bar2+BrowarX_Bar3 <=BrowarX # Uwzględnienie dostępności produktu przez BrowarX\n",
    "    prob+= BrowarY_Bar1+BrowarY_Bar2+BrowarY_Bar3 <=BrowarY # Uwzględnienie dostępności produktu przez BrowarY\n",
    "    \n",
    "else:\n",
    "    prob += sumaZapotrzebowania-dostepnosc == Braknie # Ile produktu zabraknie by zaopatrzyć wszystkie bary\n",
    "    prob+= BrowarX_Bar1+BrowarY_Bar1 <= 19\n",
    "    prob+= BrowarX_Bar2+BrowarY_Bar2 <= 5\n",
    "    prob+= BrowarX_Bar3+BrowarY_Bar3 <= 10\n",
    "\n",
    "    prob+= BrowarX_Bar1+BrowarX_Bar2+BrowarX_Bar3 ==BrowarX\n",
    "    prob+= BrowarY_Bar1+BrowarY_Bar2+BrowarY_Bar3 ==BrowarY\n",
    "\n",
    "\n",
    "\n",
    "# Rozwiązanie problemu przy użyciu pulp\n",
    "prob.solve()"
   ]
  },
  {
   "cell_type": "code",
   "execution_count": 22,
   "metadata": {},
   "outputs": [
    {
     "name": "stdout",
     "output_type": "stream",
     "text": [
      "BrowarX_Bar1 = 0.0\n",
      "BrowarX_Bar2 = 5.0\n",
      "BrowarX_Bar3 = 10.0\n",
      "BrowarY_Bar1 = 19.0\n",
      "BrowarY_Bar2 = 0.0\n",
      "BrowarY_Bar3 = 0.0\n",
      "Magazyn = 36.0\n",
      "Status:  Optimal\n",
      "koszt 138.0\n"
     ]
    }
   ],
   "source": [
    "# Wyświetlenie ilości produktu dostarczanych przez BrowarX i BrowarY do Bar1, Bar2, Bar3,\n",
    "# Wyświetlenie ilości produktu w Magazynie lub ilości brakującej\n",
    "# Wyswietlenie kosztu oraz status\n",
    "\n",
    "for v in prob.variables():\n",
    "    print(v.name,\"=\", v.varValue)\n",
    "    imie = v.name\n",
    "    wartosc = v.varValue\n",
    "    \n",
    "\n",
    "print(\"Status: \", LpStatus[prob.status])   \n",
    "print(\"koszt {}\". format(value(prob.objective)))"
   ]
  },
  {
   "cell_type": "code",
   "execution_count": null,
   "metadata": {},
   "outputs": [],
   "source": []
  },
  {
   "cell_type": "code",
   "execution_count": null,
   "metadata": {},
   "outputs": [],
   "source": []
  }
 ],
 "metadata": {
  "kernelspec": {
   "display_name": "Python 3",
   "language": "python",
   "name": "python3"
  },
  "language_info": {
   "codemirror_mode": {
    "name": "ipython",
    "version": 3
   },
   "file_extension": ".py",
   "mimetype": "text/x-python",
   "name": "python",
   "nbconvert_exporter": "python",
   "pygments_lexer": "ipython3",
   "version": "3.7.3"
  }
 },
 "nbformat": 4,
 "nbformat_minor": 2
}
